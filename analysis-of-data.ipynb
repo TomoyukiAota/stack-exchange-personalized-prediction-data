{
 "cells": [
  {
   "cell_type": "markdown",
   "metadata": {},
   "source": [
    "# Stack Exchange Personalized Prediction Data\n",
    "Stack Exchange Personalized Prediction Data is the data which Stack Exchange (which contains Stack Overflow) has accumulated from the user behavior to make prediction for personal recommendation such as job listings. See [here](https://meta.stackexchange.com/users/prediction-data) for official explanation. \n",
    "\n",
    "Stack Exchange allows users to download their personalized data. The data contains information which describes our behavior using things like tags (c++, javascript, python, etc. for my case) with some coefficients. Although there is no documentation about what each value means, it is interesting to see what it looks like.\n",
    "\n",
    "In this notebook, I'm going to explore my data."
   ]
  },
  {
   "cell_type": "markdown",
   "metadata": {},
   "source": [
    "#### Links:\n",
    "- [Personalized Prediction Data - Meta Stack Exchange](https://meta.stackexchange.com/users/prediction-data)\n",
    "- [Documentation on the personalized prediction data](https://meta.stackexchange.com/questions/250062/documentation-on-the-personalized-prediction-data)\n",
    "- [Targeted Jobs for Stack Overflow - Stack Overflow Blog](https://stackoverflow.blog/2015/01/27/targeted-jobs-for-stack-overflow/)"
   ]
  },
  {
   "cell_type": "code",
   "execution_count": 1,
   "metadata": {},
   "outputs": [],
   "source": [
    "import numpy as np\n",
    "import pandas as pd\n",
    "import matplotlib.pyplot as plt\n",
    "import seaborn as sns\n",
    "\n",
    "%matplotlib inline\n",
    "sns.set()"
   ]
  }
 ],
 "metadata": {
  "kernelspec": {
   "display_name": "Python 3",
   "language": "python",
   "name": "python3"
  },
  "language_info": {
   "codemirror_mode": {
    "name": "ipython",
    "version": 3
   },
   "file_extension": ".py",
   "mimetype": "text/x-python",
   "name": "python",
   "nbconvert_exporter": "python",
   "pygments_lexer": "ipython3",
   "version": "3.6.4"
  }
 },
 "nbformat": 4,
 "nbformat_minor": 2
}
